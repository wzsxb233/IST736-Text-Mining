{
 "cells": [
  {
   "cell_type": "code",
   "execution_count": 1,
   "metadata": {},
   "outputs": [],
   "source": [
    "import numpy as np #import numpy\n",
    "import pandas as p #import panda\n",
    "train=p.read_csv(\"deception_data_converted_final.tsv\", delimiter='\\t') #read data\n",
    "X=train['review'].values #import review\n",
    "y=train['sentiment'].values #import sentiment\n",
    "z=train['lie'].values #import truth value"
   ]
  },
  {
   "cell_type": "code",
   "execution_count": 3,
   "metadata": {},
   "outputs": [],
   "source": [
    "from sklearn.model_selection import train_test_split#import datasplit\n",
    "X_train, X_test, y_train, y_test, z_train, z_test= train_test_split(X, y, z, test_size=0.4, random_state=0)#split"
   ]
  },
  {
   "cell_type": "code",
   "execution_count": 7,
   "metadata": {},
   "outputs": [],
   "source": [
    "from sklearn.feature_extraction.text import CountVectorizer#import count_vectorizer\n",
    "#  unigram and bigram term frequency vectorizer, set minimum document frequency to 5\n",
    "gram12_count_vectorizer = CountVectorizer(encoding='latin-1', ngram_range=(1,2), min_df=5, stop_words='english')#use bigram vectorizer\n",
    "#  unigram boolean vectorizer, set minimum document frequency to 5\n",
    "unigram_bool_vectorizer = CountVectorizer(encoding='latin-1', binary=True, min_df=5, stop_words='english')"
   ]
  },
  {
   "cell_type": "code",
   "execution_count": 10,
   "metadata": {},
   "outputs": [],
   "source": [
    "X_train_vec = gram12_count_vectorizer.fit_transform(X_train)#vectorize the train data\n",
    "X_test_vec = gram12_count_vectorizer.transform(X_test)#vectorize the test data"
   ]
  },
  {
   "cell_type": "code",
   "execution_count": 12,
   "metadata": {},
   "outputs": [
    {
     "data": {
      "text/plain": [
       "MultinomialNB()"
      ]
     },
     "execution_count": 12,
     "metadata": {},
     "output_type": "execute_result"
    }
   ],
   "source": [
    "# import the MNB module\n",
    "from sklearn.naive_bayes import MultinomialNB\n",
    "nb_clf1= MultinomialNB()#define a MNB modelfor sentiment\n",
    "nb_clf2=MultinomialNB()#define a MNB model for lie\n",
    "nb_clf1.fit(X_train_vec,y_train)\n",
    "nb_clf2.fit(X_train_vec,z_train)"
   ]
  },
  {
   "cell_type": "code",
   "execution_count": 13,
   "metadata": {},
   "outputs": [
    {
     "data": {
      "text/plain": [
       "0.4864864864864865"
      ]
     },
     "execution_count": 13,
     "metadata": {},
     "output_type": "execute_result"
    }
   ],
   "source": [
    "nb_clf1.score(X_test_vec,y_test)#show score\n",
    "nb_clf2.score(X_test_vec,z_test)#show score"
   ]
  },
  {
   "cell_type": "code",
   "execution_count": 19,
   "metadata": {},
   "outputs": [
    {
     "name": "stdout",
     "output_type": "stream",
     "text": [
      "[[15  3]\n",
      " [ 3 16]]\n",
      "[[11  9]\n",
      " [10  7]]\n"
     ]
    }
   ],
   "source": [
    "from sklearn.metrics import confusion_matrix#import confusion_matrix\n",
    "y_pred = nb_clf1.fit(X_train_vec, y_train).predict(X_test_vec)#get predict\n",
    "cm1=confusion_matrix(y_test, y_pred, labels=['n','p'])\n",
    "print(cm1)\n",
    "z_pred = nb_clf2.fit(X_train_vec, z_train).predict(X_test_vec)#get predict\n",
    "cm2=confusion_matrix(z_test, z_pred, labels=['t', 'f'])\n",
    "print(cm2)"
   ]
  },
  {
   "cell_type": "code",
   "execution_count": 18,
   "metadata": {},
   "outputs": [
    {
     "name": "stdout",
     "output_type": "stream",
     "text": [
      "[0.83333333 0.84210526]\n",
      "[0.83333333 0.84210526]\n",
      "              precision    recall  f1-score   support\n",
      "\n",
      "           n       0.83      0.83      0.83        18\n",
      "           p       0.84      0.84      0.84        19\n",
      "\n",
      "    accuracy                           0.84        37\n",
      "   macro avg       0.84      0.84      0.84        37\n",
      "weighted avg       0.84      0.84      0.84        37\n",
      "\n",
      "[0.83333333 0.84210526]\n",
      "[0.83333333 0.84210526]\n",
      "              precision    recall  f1-score   support\n",
      "\n",
      "           t       0.44      0.41      0.42        17\n",
      "           f       0.52      0.55      0.54        20\n",
      "\n",
      "    accuracy                           0.49        37\n",
      "   macro avg       0.48      0.48      0.48        37\n",
      "weighted avg       0.48      0.49      0.48        37\n",
      "\n"
     ]
    }
   ],
   "source": [
    "from sklearn.metrics import precision_score\n",
    "from sklearn.metrics import recall_score\n",
    "print(precision_score(y_test, y_pred, average=None))#get yprecision\n",
    "print(recall_score(y_test, y_pred, average=None))#get yrecal\n",
    "\n",
    "from sklearn.metrics import classification_report#get yf1_score\n",
    "target_names1 = ['n','p']#set categories\n",
    "print(classification_report(y_test, y_pred, target_names=target_names1))#print report1\n",
    "\n",
    "print(precision_score(y_test, y_pred, average=None))#get zprecision\n",
    "print(recall_score(y_test, y_pred, average=None))#get zrecall\n",
    "\n",
    "from sklearn.metrics import classification_report\n",
    "target_names2 = ['t','f']#set categories\n",
    "print(classification_report(z_test, z_pred, target_names=target_names2))#print report2\n",
    "\n"
   ]
  },
  {
   "cell_type": "code",
   "execution_count": 21,
   "metadata": {},
   "outputs": [
    {
     "name": "stdout",
     "output_type": "stream",
     "text": [
      "'the staff at this restaurant is very unfriendly. the waitress for our table is extremely rude. we need to wait for one hour for our order to come. the place is noisy and the food isn\\'t that good.'\n",
      "'This diner was not at all up to par. I\\'ve been to many diners, and get eggs benedict sometimes. There was nacho cheese on my eggs, and a plateful of watery runny eggs. And it smelled like smoke. And there was no heat, in the dead of winter. Their prices are not ANYWHERE near what is reasonable. Cool mom & pop place, but terrible food, smell, and prices.'\n",
      "'I went to this ultra-luxurious restaurant in Downtown New York which is known for its exotic and expensive cuisine. I had a glass of champagne along with very expensive Caviar. I had a delicious Chicken Pasta cooked in white sauce. This was followed by mouth melting chocolate brownie and vanilla ice cream. The service standards were superlative and I felt special visiting this restaurant. '\n",
      "'Olive Oil Garden was very disappointing. I expect good food and good service (at least!!) when I go out to eat. The meal was cold when we got it, and the waitor had no manners whatsoever. Don\\'t go to the Olive Oil Garden. '\n",
      "'Ruby Tuesday is my favorite America Style Restaurant. The salad is awesome. And I like the baby pork ribs so much . So does the coconut shrimp.'\n",
      "?\n",
      "errorsa: 6\n",
      "'After I went shopping with some of my friend, we went to DODO restaurant for dinner. I found worm in one of the dishes .'\n",
      "'This place used to be great. I can\\'t believe it\\'s current state. Instead of the cool, dimly-lit lounge that I was used to, I was in a cheap, smelly bar. The music has no soul, the bartender is mean. This place no longer exudes a welcoming spirit. The crowd is awkward and old. I want my old hangout back!!'\n",
      "'I went there with two friends at 6pm. Long queue was there. But it didn\\'t take us long to wait. The waiter was nice but worked in a hurry. We ordered \\'Today\\'s Special\\', some drinks and two icecreams. I had a steak, a little bit too salty, but acceptable. My friends didn\\'t like their lamb chop and cod filet that much. It costed us almost $100. Not worth it. Will not visit there any more.'\n",
      "'The best restaurant I have gone to is when I went to AppleBee with my friends, the service there is so nice. Food is delicious, I liked the steak very much! The environment is very nice and clean, which makes me want to go there for more times. Also, the feeling when talking with my friends at such a good restaurant after skiing is wonderful. I want to go there again!!'\n",
      "'I ate at this restaurant called Banana Leaf. As I entered the restaurant I really liked the ambiance. I ordered noodle soup and fried rice with spicy black bean curry. The service was pretty fast and the food tasted amazing. There was a lot flavor in the food which I truly enjoyed. Two thumbs up for Banana Leaf and I would totally recommend this restaurant.'\n",
      "'The worst restaurant that I have ever eaten in is undoubtedly this place called \\'Kneed and feed\\'. I ordered a veggie sandwich and a red pepper soup. When the waitress placed my order on the table it looked very promising-- but when I took a bite of my sandwich which was also a task as the bread was too hard to bite into, the veggie burger had no flavor. Also the red pepper soup was very bland and I had to add a lot of salt and pepper to give it some flavor. Even though I was starving I was unable to finish my order. '\n",
      "'This diner was not at all up to par. I\\'ve been to many diners, and get eggs benedict sometimes. There was nacho cheese on my eggs, and a plateful of watery runny eggs. And it smelled like smoke. And there was no heat, in the dead of winter. Their prices are not ANYWHERE near what is reasonable. Cool mom & pop place, but terrible food, smell, and prices.'\n",
      "'OMG. This restaurant is horrible. The receptionist did not greet us, we just stood there and waited for five minutes. The food came late and served not warm. Me and my pet ordered a bowl of salad and a cheese pizza. The salad was not fresh, the crust of a pizza was so hard like plastics. My dog didn\\'t even eat that pizza. I hate this place!!!!!!!!!!'\n",
      "'Pastablities is a locally owned restaurant in Syracuse. The food is simple and homey and comforting. Their famous bread is baked daily and the bakery is right next door. The bread is soft and chewy and amazing with their homemade spicy tomato sauce. The paste and cheese that I had was cream and cooked to perfection. '\n",
      "'After reading the reviews as well listening to all my friends rave about Dinosaur Bar-B-Que, I decided to try it out! This is definitely the kind of place for you if you are into crowded, noisy and people-walking-all-over type of person. Unfortunately I am not that type of person. I found the place dirty, noisy, too crowded, and the smell of the people over powered the smell of the food. There were also loads of beer floating around and as the minutes flowed by, people just became rowdier. Although the food was good, I would not rate it as \\'you have to try it before you die\\' kinda food. Sorry Dinosaur Bar-B-Que, you are just not my kinda dig!'\n",
      "'This restaurant ROCKS! I mean the food is great and people are great. Everything is great great just great!!! I love it. I like it. '\n",
      "'I went to ABC restaurant two days ago and I hated the food and the service. We were kept waiting for over an hour just to get seated and once we ordered, our food came out cold. I ordered the pasta and it was terrible - completely bland and very unappatizing. I definitely would not recommend going there, especially if you\\'re in a hurry!'\n",
      "'I have been to a Asian restaurant in New York city. The menu is written by Chinese and English. When I choose a famous chinses plate called Gongbao chicken, I was surprised. The taste of it like a Thai flavor, which is cooked by curry. '\n",
      "'Cacata is the best place for Chinese food in the city. I attended a birthday celebration here once and expected some kind of oriental version of the birthday cake. They didn\\'t disappoint! It was some kind of pudding. They are edgy and the food is great.'\n",
      "'When you walk into TYU you may not have the highest expectations. The space is small, dark and may even be a little gloomy, but once you settle into the comfy chairs ad browse their menu - you know you\\'re in for a treat. Great food, amazing prices and definite value for money!'\n",
      "'Olive Oil Garden was very disappointing. I expect good food and good service (at least!!) when I go out to eat. The meal was cold when we got it, and the waitor had no manners whatsoever. Don\\'t go to the Olive Oil Garden. '\n",
      "?\n",
      "'Two days ago, I went to the rooftop restaurant in NYC that served brunch. it was one of the best brunch that I have ever had. The view from the table was serene and I could see both the the Hudson River and the East River with outstanding views of Empire State Building, the Chryslers tower, Freedom tower and the Central park. A great place with great food and a perplexing view'\n",
      "'I went to Joey\\'s and had the best lasagna on the planet - absolutely out of this world. They had ice cold beer and hot food within 15 minutes that was delicious, a friendly staff, good prices, and an extensive beer list. Great place go ASAP!'\n",
      "errorsb: 19\n"
     ]
    }
   ],
   "source": [
    "err_cnta = 0#calc errora\n",
    "for i in range(0, len(y_test)):\n",
    "    if(y_test[i] != y_pred[i]):\n",
    "        print(X_test[i])\n",
    "        err_cnta = err_cnta+1\n",
    "print(\"errorsa:\", err_cnta)\n",
    "\n",
    "\n",
    "err_cntb = 0#calc error b\n",
    "for i in range(0, len(z_test)):\n",
    "    if(z_test[i] != z_pred[i]):\n",
    "        print(X_test[i])\n",
    "        err_cntb = err_cntb+1\n",
    "print(\"errorsb:\", err_cntb)\n"
   ]
  },
  {
   "cell_type": "code",
   "execution_count": 24,
   "metadata": {},
   "outputs": [
    {
     "name": "stdout",
     "output_type": "stream",
     "text": [
      "[(-3.8548645915881976, 'waitress'), (-3.7495040759303713, 'asked'), (-3.6541938961260465, 'minutes'), (-3.6541938961260465, 'salad'), (-3.6541938961260465, 'service'), (-3.567182519136417, 'experience'), (-3.344038967822207, 'went'), (-3.218875824868201, 'place'), (-2.756252302920088, 'food'), (-2.684793338937943, 'restaurant')]\n",
      "[(-6.052089168924417, 'amazing'), (-6.052089168924417, 'need'), (-5.358941988364472, 'fresh'), (-5.358941988364472, 'friendly'), (-5.358941988364472, 'nice'), (-5.358941988364472, 'prices'), (-4.953476880256307, 'definitely'), (-4.953476880256307, 'high'), (-4.953476880256307, 'sauce'), (-4.953476880256307, 'staff')]\n",
      "[(-3.852508877895738, 'menu'), (-3.852508877895738, 'minutes'), (-3.747148362237912, 'went'), (-3.651838182433587, 'like'), (-3.484784097770421, 'service'), (-3.4106761256166993, 'best'), (-3.4106761256166993, 'experience'), (-3.4106761256166993, 'place'), (-2.9586910018736416, 'restaurant'), (-2.7916369172104756, 'food')]\n",
      "[(-4.951121166563848, 'life'), (-4.951121166563848, 'ny'), (-4.663439094112067, 'bad'), (-4.663439094112067, 'came'), (-4.663439094112067, 'didn'), (-4.663439094112067, 'dish'), (-4.663439094112067, 'favorite'), (-4.663439094112067, 'going'), (-4.663439094112067, 'later'), (-4.663439094112067, 'long')]\n"
     ]
    }
   ],
   "source": [
    "feature_ranks1 = sorted(zip(nb_clf1.feature_log_prob_[0], gram12_count_vectorizer.get_feature_names()))#define rank of feature 1\n",
    "negative_features = feature_ranks1[-10:]\n",
    "positive_features = feature_ranks1[:10]\n",
    "print(negative_features)\n",
    "print(positive_features)\n",
    "\n",
    "feature_ranks2 = sorted(zip(nb_clf2.feature_log_prob_[0], gram12_count_vectorizer.get_feature_names()))#define rank of feature 2\n",
    "false_features = feature_ranks2[-10:]\n",
    "truth_features = feature_ranks2[:10]\n",
    "print(false_features)\n",
    "print(truth_features)"
   ]
  },
  {
   "cell_type": "code",
   "execution_count": null,
   "metadata": {},
   "outputs": [],
   "source": []
  }
 ],
 "metadata": {
  "kernelspec": {
   "display_name": "Python 3",
   "language": "python",
   "name": "python3"
  },
  "language_info": {
   "codemirror_mode": {
    "name": "ipython",
    "version": 3
   },
   "file_extension": ".py",
   "mimetype": "text/x-python",
   "name": "python",
   "nbconvert_exporter": "python",
   "pygments_lexer": "ipython3",
   "version": "3.8.5"
  }
 },
 "nbformat": 4,
 "nbformat_minor": 4
}
