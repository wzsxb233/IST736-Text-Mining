{
 "cells": [
  {
   "cell_type": "code",
   "execution_count": 99,
   "metadata": {},
   "outputs": [],
   "source": [
    "import pandas as pd\n",
    "import numpy as np\n",
    "# nltk package.\n",
    "import nltk\n",
    "from nltk.classify import SklearnClassifier\n",
    "from nltk.tokenize import TreebankWordTokenizer"
   ]
  },
  {
   "cell_type": "markdown",
   "metadata": {},
   "source": [
    "df = pd.read_csv('cleaned_hm.csv')\n",
    "print(df.shape)\n",
    "#import cleaned data"
   ]
  },
  {
   "cell_type": "code",
   "execution_count": 63,
   "metadata": {},
   "outputs": [],
   "source": [
    "peoplelist=pd.read_csv('people-dictchanged.csv')\n",
    "#import lexicon, I had modified the csv file so that it can be read as a dictionary, modified lexicon attached"
   ]
  },
  {
   "cell_type": "code",
   "execution_count": 17,
   "metadata": {},
   "outputs": [
    {
     "data": {
      "text/plain": [
       "0         I went on a successful date with someone I fel...\n",
       "1         I was happy when my son got 90% marks in his e...\n",
       "2              I went to the gym this morning and did yoga.\n",
       "3         We had a serious talk with some friends of our...\n",
       "4         I went with grandchildren to butterfly display...\n",
       "                                ...                        \n",
       "100530    My husband announced he is getting a decent bo...\n",
       "100531                         Had a can of Pepsi to drink.\n",
       "100532              Cuddling with my girlfriend last night.\n",
       "100533    I had a great meeting yesterday at work with m...\n",
       "100534                    I had a great workout last night.\n",
       "Name: cleaned_hm, Length: 100535, dtype: object"
      ]
     },
     "execution_count": 17,
     "metadata": {},
     "output_type": "execute_result"
    }
   ],
   "source": [
    "df['cleaned_hm']\n",
    "#look at the imported data"
   ]
  },
  {
   "cell_type": "code",
   "execution_count": 106,
   "metadata": {},
   "outputs": [],
   "source": [
    "analyzetext=[]\n",
    "for p in df['cleaned_hm']:\n",
    "    analyzetext.append(TreebankWordTokenizer().tokenize(p))\n",
    "#create a list of list of word tokens for analyze, since the text has already be cleaned, we can just tokenize it."
   ]
  },
  {
   "cell_type": "code",
   "execution_count": 110,
   "metadata": {},
   "outputs": [],
   "source": [
    "dict={'people':peoplelist['people'],'count':[]}#make a dictionary recording the people word and its relative counts."
   ]
  },
  {
   "cell_type": "code",
   "execution_count": 112,
   "metadata": {},
   "outputs": [],
   "source": [
    "for a in dict['people']:\n",
    "    counting=0\n",
    "    for b in analyzetext:\n",
    "        for c in b:\n",
    "            if a==c:\n",
    "                counting+=1\n",
    "    dict['count'].append(counting)\n",
    "#count each lexicon's appearance for the whole dataset \n",
    "    "
   ]
  },
  {
   "cell_type": "code",
   "execution_count": 125,
   "metadata": {},
   "outputs": [],
   "source": [
    "dict['count'].index(max(dict['count']))\n",
    "dict['people'][59]\n",
    "#show the happiest people word"
   ]
  },
  {
   "cell_type": "code",
   "execution_count": 129,
   "metadata": {},
   "outputs": [
    {
     "name": "stdout",
     "output_type": "stream",
     "text": [
      "friend\n",
      "friends\n",
      "family\n",
      "son\n",
      "daughter\n"
     ]
    }
   ],
   "source": [
    "bigNum=sorted(dict['count'], reverse=True)\n",
    "for t in bigNum[:5]:\n",
    "    print(dict['people'][dict['count'].index(t)])\n",
    "#find the 5 happiest people word\n"
   ]
  },
  {
   "cell_type": "code",
   "execution_count": null,
   "metadata": {},
   "outputs": [],
   "source": []
  }
 ],
 "metadata": {
  "kernelspec": {
   "display_name": "Python 3",
   "language": "python",
   "name": "python3"
  },
  "language_info": {
   "codemirror_mode": {
    "name": "ipython",
    "version": 3
   },
   "file_extension": ".py",
   "mimetype": "text/x-python",
   "name": "python",
   "nbconvert_exporter": "python",
   "pygments_lexer": "ipython3",
   "version": "3.8.5"
  }
 },
 "nbformat": 4,
 "nbformat_minor": 4
}
