{
 "cells": [
  {
   "cell_type": "code",
   "execution_count": 72,
   "metadata": {},
   "outputs": [],
   "source": [
    "import pandas as pd\n",
    "df = pd.read_csv('headline_10000.csv', delimiter=',')#read file\n",
    "from sklearn.feature_extraction.text import CountVectorizer# import count vec\n",
    "from sklearn.feature_extraction.text import TfidfVectorizer# import tfidf vec\n",
    "from sklearn.metrics.pairwise import cosine_similarity# import cossim\n",
    "from sklearn.feature_extraction.text import TfidfVectorizer\n",
    "from sklearn.decomposition import PCA\n",
    "from sklearn.preprocessing import normalize\n",
    "from sklearn.metrics import pairwise_distances\n",
    "\n",
    "import nltk\n",
    "import string\n",
    "\n",
    "unigram_count = CountVectorizer(encoding='UTF-8', stop_words='english', binary=False)#define count vec\n",
    "tf_idf_vectorizor = TfidfVectorizer(stop_words = 'english',#tokenizer = tokenize_and_stem,\n",
    "                             max_features = 20000)\n",
    "tf_idf = tf_idf_vectorizor.fit_transform(df['title'])\n",
    "tf_idf_norm = normalize(tf_idf)\n",
    "tf_idf_array = tf_idf_norm.toarray()\n",
    "tf_feature_names = tf_idf_vectorizor.get_feature_names()\n",
    "covecs = unigram_count.fit_transform(df['title'])\n",
    "\n"
   ]
  },
  {
   "cell_type": "code",
   "execution_count": 9,
   "metadata": {},
   "outputs": [
    {
     "data": {
      "text/plain": [
       "(1, 9272)"
      ]
     },
     "execution_count": 9,
     "metadata": {},
     "output_type": "execute_result"
    }
   ],
   "source": [
    "df['title'][0]#check out the element\n"
   ]
  },
  {
   "cell_type": "code",
   "execution_count": 38,
   "metadata": {},
   "outputs": [],
   "source": [
    "#Q1\n",
    "def cosimi10(head,vec):\n",
    "    cos_sim=cosine_similarity(head, vec)\n",
    "    sim_sorted_doc_idx = cos_sim.argsort()\n",
    "    return(df['title'][sim_sorted_doc_idx[0][len(df['title'])-12:len(df['title'])-1]])#return 11 result, because the best match is always the text itself, so we look for the last 11 result"
   ]
  },
  {
   "cell_type": "code",
   "execution_count": 39,
   "metadata": {},
   "outputs": [
    {
     "data": {
      "text/plain": [
       "8273    Anti-inflammatory medicine can have a benefici...\n",
       "3483    Taking immunosuppressives, anti-cancer drugs m...\n",
       "8773    Meatballs might wreck the anti-cancer perks of...\n",
       "6551    Anti-inflammatory therapy cuts risk of lung ca...\n",
       "3342    Researchers dispute warning that drugs for hig...\n",
       "871     Non-steroidal anti-inflammatory drugs linked t...\n",
       "5708    Colorectal cancer prevention: A proven benefit...\n",
       "7366    OSA in older adults: Often present, seldom inv...\n",
       "8313    Anti-inflammatory drugs ineffective for preven...\n",
       "7923    Hazelnuts improve older adults' micronutrient ...\n",
       "7631    The link between cognitive function and sexual...\n",
       "Name: title, dtype: object"
      ]
     },
     "execution_count": 39,
     "metadata": {},
     "output_type": "execute_result"
    }
   ],
   "source": [
    "cosimi10(covecs[2],covecs)"
   ]
  },
  {
   "cell_type": "code",
   "execution_count": 58,
   "metadata": {},
   "outputs": [
    {
     "data": {
      "text/plain": [
       "872     Self-administered light therapy may improve co...\n",
       "4747    Surgery, anesthesia not linked to long-term co...\n",
       "9123    Scientists find a new use for already known an...\n",
       "9269    Study identifies potential risk factors for co...\n",
       "7019    Can training improve memory, thinking abilitie...\n",
       "8273    Anti-inflammatory medicine can have a benefici...\n",
       "871     Non-steroidal anti-inflammatory drugs linked t...\n",
       "5708    Colorectal cancer prevention: A proven benefit...\n",
       "6551    Anti-inflammatory therapy cuts risk of lung ca...\n",
       "8313    Anti-inflammatory drugs ineffective for preven...\n",
       "7631    The link between cognitive function and sexual...\n",
       "Name: title, dtype: object"
      ]
     },
     "execution_count": 58,
     "metadata": {},
     "output_type": "execute_result"
    }
   ],
   "source": [
    "cosimi10(tf_idf[2],tf_idf)"
   ]
  },
  {
   "cell_type": "code",
   "execution_count": 70,
   "metadata": {},
   "outputs": [
    {
     "data": {
      "image/png": "[encoded data removed]",
      "text/plain": [
       "<Figure size 432x288 with 1 Axes>"
      ]
     },
     "metadata": {
      "needs_background": "light"
     },
     "output_type": "display_data"
    }
   ],
   "source": [
    "#Q2.\n",
    "from sklearn.cluster import KMeans#import kmean package\n",
    "from scipy.stats import zscore#import z score\n",
    "import matplotlib.pyplot as plt#import plot\n",
    "def find_optimal_clusters(data, max_k):#define the elbow method\n",
    "    iters = range(2, max_k+1, 1)\n",
    "    \n",
    "    sse = []\n",
    "    for k in iters:\n",
    "        kmeans_model = KMeans(n_clusters=k,random_state=0, n_init=20).fit(data)\n",
    "        sse.append(kmeans_model.inertia_)\n",
    "    f, ax = plt.subplots(1, 1)\n",
    "    ax.plot(iters, sse, marker='o')\n",
    "    ax.set_xlabel('Cluster Centers')\n",
    "    ax.set_xticks(iters)\n",
    "    ax.set_xticklabels(iters)\n",
    "    ax.set_ylabel('sse')\n",
    "    ax.set_title('SSE by Cluster Center Plot')\n",
    "    \n",
    "find_optimal_clusters(tf_idf,10)#use the elbow method to find how many cluster is optimized for KMean, it is 8"
   ]
  },
  {
   "cell_type": "code",
   "execution_count": 79,
   "metadata": {},
   "outputs": [
    {
     "data": {
      "text/plain": [
       "1"
      ]
     },
     "execution_count": 79,
     "metadata": {},
     "output_type": "execute_result"
    }
   ],
   "source": [
    "\n",
    "from sklearn.cluster import KMeans\n",
    "sklearn_pca = PCA(n_components = 2)\n",
    "Y_sklearn = sklearn_pca.fit_transform(tf_idf_array)\n",
    "kmeans = KMeans(n_clusters=8, max_iter=10, algorithm = 'auto')\n",
    "fitted = kmeans.fit(Y_sklearn)\n",
    "prediction = kmeans.predict(Y_sklearn)\n",
    "\n",
    "\n"
   ]
  },
  {
   "cell_type": "code",
   "execution_count": 80,
   "metadata": {},
   "outputs": [
    {
     "data": {
      "text/plain": [
       "[       features     score\n",
       " 0         study  0.023177\n",
       " 1        health  0.017455\n",
       " 2      children  0.014267\n",
       " 3         brain  0.010922\n",
       " 4          care  0.010117\n",
       " 5         women  0.009508\n",
       " 6           use  0.009504\n",
       " 7         finds  0.009211\n",
       " 8        people  0.008901\n",
       " 9        adults  0.008322\n",
       " 10        shows  0.007424\n",
       " 11     research  0.007246\n",
       " 12  researchers  0.007233\n",
       " 13         help  0.007014\n",
       " 14       weight  0.006933,\n",
       "           features     score\n",
       " 0             risk  0.143678\n",
       " 1            heart  0.052920\n",
       " 2          disease  0.050444\n",
       " 3           linked  0.037786\n",
       " 4           higher  0.029926\n",
       " 5        increased  0.029092\n",
       " 6         increase  0.027197\n",
       " 7            death  0.025883\n",
       " 8         diabetes  0.025256\n",
       " 9         patients  0.022769\n",
       " 10      associated  0.020292\n",
       " 11            high  0.019434\n",
       " 12          stroke  0.019245\n",
       " 13           women  0.018905\n",
       " 14  cardiovascular  0.017728,\n",
       "       features     score\n",
       " 0       cancer  0.165966\n",
       " 1     patients  0.030158\n",
       " 2        study  0.024393\n",
       " 3     prostate  0.023069\n",
       " 4    treatment  0.022837\n",
       " 5    screening  0.019782\n",
       " 6       breast  0.019758\n",
       " 7          new  0.019717\n",
       " 8         lung  0.019605\n",
       " 9    survivors  0.017823\n",
       " 10     ovarian  0.016213\n",
       " 11    survival  0.014110\n",
       " 12     therapy  0.012907\n",
       " 13       finds  0.011535\n",
       " 14  pancreatic  0.011466,\n",
       "       features     score\n",
       " 0      disease  0.048516\n",
       " 1       linked  0.045094\n",
       " 2        heart  0.042520\n",
       " 3         risk  0.041951\n",
       " 4     patients  0.022519\n",
       " 5        study  0.016420\n",
       " 6       kidney  0.015303\n",
       " 7        blood  0.014543\n",
       " 8       higher  0.013620\n",
       " 9     diabetes  0.013584\n",
       " 10        high  0.013370\n",
       " 11    children  0.011741\n",
       " 12  associated  0.011550\n",
       " 13     failure  0.011057\n",
       " 14      health  0.010694,\n",
       "         features     score\n",
       " 0         cancer  0.213849\n",
       " 1         breast  0.126707\n",
       " 2       patients  0.084303\n",
       " 3      treatment  0.055267\n",
       " 4       survival  0.052704\n",
       " 5       prostate  0.051007\n",
       " 6            new  0.025098\n",
       " 7          study  0.024880\n",
       " 8        therapy  0.023041\n",
       " 9           lung  0.022166\n",
       " 10         women  0.021679\n",
       " 11      advanced  0.020148\n",
       " 12          test  0.020055\n",
       " 13         early  0.019337\n",
       " 14  chemotherapy  0.018547,\n",
       "       features     score\n",
       " 0         risk  0.202174\n",
       " 1        heart  0.147744\n",
       " 2       linked  0.113234\n",
       " 3      disease  0.112654\n",
       " 4    increased  0.090886\n",
       " 5       higher  0.059871\n",
       " 6        death  0.048119\n",
       " 7       attack  0.039790\n",
       " 8        lower  0.037212\n",
       " 9       stroke  0.036167\n",
       " 10     failure  0.032452\n",
       " 11    diabetes  0.032444\n",
       " 12    increase  0.026452\n",
       " 13        high  0.024635\n",
       " 14  associated  0.023677,\n",
       "        features     score\n",
       " 0      patients  0.064527\n",
       " 1           new  0.056376\n",
       " 2     treatment  0.047993\n",
       " 3         study  0.033573\n",
       " 4         finds  0.018682\n",
       " 5         shows  0.016007\n",
       " 6          drug  0.014779\n",
       " 7       therapy  0.013945\n",
       " 8     effective  0.012305\n",
       " 9   researchers  0.011223\n",
       " 10         test  0.010838\n",
       " 11      surgery  0.010697\n",
       " 12     improves  0.010404\n",
       " 13         care  0.010339\n",
       " 14         help  0.010013,\n",
       "       features     score\n",
       " 0       cancer  0.193660\n",
       " 1         risk  0.171594\n",
       " 2       breast  0.072868\n",
       " 3       linked  0.041897\n",
       " 4     prostate  0.041068\n",
       " 5    increased  0.039816\n",
       " 6     increase  0.025253\n",
       " 7       higher  0.025048\n",
       " 8        women  0.024554\n",
       " 9        lower  0.024089\n",
       " 10       death  0.023907\n",
       " 11    patients  0.022851\n",
       " 12  colorectal  0.021738\n",
       " 13  associated  0.018242\n",
       " 14       study  0.017117]"
      ]
     },
     "execution_count": 80,
     "metadata": {},
     "output_type": "execute_result"
    }
   ],
   "source": [
    "\n",
    "import numpy as np \n",
    "def get_top_features_cluster(tf_idf_array, prediction, n_feats):\n",
    "    labels = np.unique(prediction)\n",
    "    dfs = []\n",
    "    for label in labels:\n",
    "        id_temp = np.where(prediction==label) # indices for each cluster\n",
    "        x_means = np.mean(tf_idf_array[id_temp], axis = 0) # returns average score across cluster\n",
    "        sorted_means = np.argsort(x_means)[::-1][:n_feats] # indices with top 20 scores\n",
    "        features = unigram_count.get_feature_names()\n",
    "        best_features = [(features[i], x_means[i]) for i in sorted_means]\n",
    "        df = pd.DataFrame(best_features, columns = ['features', 'score'])\n",
    "        dfs.append(df)\n",
    "    return dfs\n",
    "dfs = get_top_features_cluster(tf_idf_array, prediction, 15)\n",
    "dfs"
   ]
  },
  {
   "cell_type": "code",
   "execution_count": 64,
   "metadata": {},
   "outputs": [],
   "source": [
    "#Q3\n",
    "from sklearn.decomposition import NMF, LatentDirichletAllocation# import LDA"
   ]
  },
  {
   "cell_type": "code",
   "execution_count": 90,
   "metadata": {},
   "outputs": [
    {
     "name": "stdout",
     "output_type": "stream",
     "text": [
      "Topic 0:\n",
      "physicians medical money depressed aid coronavirus errors psychosis physician bypass\n",
      "Topic 1:\n",
      "trials accelerate needs clinical compares vessel degeneration enables revealed antidepressant\n",
      "Topic 2:\n",
      "racial contribute disparities making ethnic hemorrhage play driving unhealthy safer\n",
      "Topic 3:\n",
      "day epilepsy ocd think determines chinese mood pancreas lose acids\n",
      "Topic 4:\n",
      "care patients study health cancer finds damage treatment brain stem\n",
      "Topic 5:\n",
      "medications live american south migraine inequalities healthier aged night prognosis\n",
      "Topic 6:\n",
      "risk study cancer patients new disease linked heart health women\n"
     ]
    }
   ],
   "source": [
    "no_topics=7\n",
    "lda = LatentDirichletAllocation(n_components=no_topics, max_iter=10, learning_method='online', learning_offset=50.,random_state=0)\n",
    "lda_z = lda.fit_transform(tf_idf)\n",
    "def display_topics(model, feature_names, no_top_words):\n",
    "    for topic_idx, topic in enumerate(model.components_):\n",
    "        print(\"Topic %d:\" % (topic_idx))\n",
    "        print(\" \".join([feature_names[i]\n",
    "                        for i in topic.argsort()[:-no_top_words - 1:-1]]))\n",
    "\n",
    "no_top_words = 10\n",
    "display_topics(lda, tf_feature_names, no_top_words)"
   ]
  },
  {
   "cell_type": "code",
   "execution_count": 116,
   "metadata": {},
   "outputs": [],
   "source": [
    "#Question D:\n",
    "lda1 = LatentDirichletAllocation(n_components=no_topics, max_iter=10, learning_method='online', learning_offset=50.,random_state=0)\n",
    "lda_z1 = lda.fit_transform(tf_idf[0:112])\n",
    "lda2 = LatentDirichletAllocation(n_components=no_topics, max_iter=10, learning_method='online', learning_offset=50.,random_state=0)\n",
    "lda_z2 = lda.fit_transform(tf_idf[112:357])\n",
    "lda3 = LatentDirichletAllocation(n_components=no_topics, max_iter=10, learning_method='online', learning_offset=50.,random_state=0)\n",
    "lda_z3 = lda.fit_transform(tf_idf[357:761])\n",
    "lda4 = LatentDirichletAllocation(n_components=no_topics, max_iter=10, learning_method='online', learning_offset=50.,random_state=0)\n",
    "lda_z4 = lda.fit_transform(tf_idf[761:1289])\n",
    "lda5 = LatentDirichletAllocation(n_components=no_topics, max_iter=10, learning_method='online', learning_offset=50.,random_state=0)\n",
    "lda_z5 = lda.fit_transform(tf_idf[1289:1667])\n",
    "lda6 = LatentDirichletAllocation(n_components=no_topics, max_iter=10, learning_method='online', learning_offset=50.,random_state=0)\n",
    "lda_z6 = lda.fit_transform(tf_idf[1667:2155])\n",
    "lda7 = LatentDirichletAllocation(n_components=no_topics, max_iter=10, learning_method='online', learning_offset=50.,random_state=0)\n",
    "lda_z7 = lda.fit_transform(tf_idf[2155:3288])\n",
    "lda8 = LatentDirichletAllocation(n_components=no_topics, max_iter=10, learning_method='online', learning_offset=50.,random_state=0)\n",
    "lda_z8 = lda.fit_transform(tf_idf[3288:4543])\n",
    "lda9 = LatentDirichletAllocation(n_components=no_topics, max_iter=10, learning_method='online', learning_offset=50.,random_state=0)\n",
    "lda_z9 = lda.fit_transform(tf_idf[4543:5766])\n",
    "lda10 = LatentDirichletAllocation(n_components=no_topics, max_iter=10, learning_method='online', learning_offset=50.,random_state=0)\n",
    "lda_z10 = lda.fit_transform(tf_idf[5766:7017])\n",
    "lda11 = LatentDirichletAllocation(n_components=no_topics, max_iter=10, learning_method='online', learning_offset=50.,random_state=0)\n",
    "lda_z11 = lda.fit_transform(tf_idf[7017:7966])\n",
    "lda12 = LatentDirichletAllocation(n_components=no_topics, max_iter=10, learning_method='online', learning_offset=50.,random_state=0)\n",
    "lda_z12 = lda.fit_transform(tf_idf[7966:9080])\n",
    "lda13 = LatentDirichletAllocation(n_components=no_topics, max_iter=10, learning_method='online', learning_offset=50.,random_state=0)\n",
    "lda_z13 = lda.fit_transform(tf_idf[9080:10000])"
   ]
  },
  {
   "cell_type": "code",
   "execution_count": null,
   "metadata": {},
   "outputs": [],
   "source": []
  }
 ],
 "metadata": {
  "kernelspec": {
   "display_name": "Python 3",
   "language": "python",
   "name": "python3"
  },
  "language_info": {
   "codemirror_mode": {
    "name": "ipython",
    "version": 3
   },
   "file_extension": ".py",
   "mimetype": "text/x-python",
   "name": "python",
   "nbconvert_exporter": "python",
   "pygments_lexer": "ipython3",
   "version": "3.8.5"
  }
 },
 "nbformat": 4,
 "nbformat_minor": 4
}
